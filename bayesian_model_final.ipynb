{
  "cells": [
    {
      "cell_type": "code",
      "execution_count": 10,
      "metadata": {
        "colab": {
          "base_uri": "https://localhost:8080/"
        },
        "id": "N8jYBkQ6EXWX",
        "outputId": "e8d81ab4-d394-40fc-ae47-dbded72d3123"
      },
      "outputs": [],
      "source": [
        "import random\n",
        "import csv\n",
        "import pandas as pd\n",
        "from pgmpy.models import BayesianNetwork\n",
        "from pgmpy.factors.discrete import TabularCPD\n",
        "from pgmpy.inference import VariableElimination\n",
        "import joblib"
      ]
    },
    {
      "cell_type": "code",
      "execution_count": 11,
      "metadata": {
        "id": "PIethLeJMKZM"
      },
      "outputs": [],
      "source": [
        "variables = {\n",
        "    \"Weapon\": [\"Knife\", \"Gun\", \"Poison\", \"Fists\"],\n",
        "    \"Location\": [\"Living Room\", \"Kitchen\", \"Bedroom\", \"Garden\"],\n",
        "    \"Opportunity\": [\"High\", \"Medium\", \"Low\"],\n",
        "    \"Motive\": [\"Jealousy\", \"Revenge\", \"Greed\", \"None\"]\n",
        "}"
      ]
    },
    {
      "cell_type": "code",
      "execution_count": 12,
      "metadata": {
        "id": "QqxljDpfMPC_"
      },
      "outputs": [],
      "source": [
        "suspects = [\"Farhan\", \"Minhaz\", \"Hasib\", \"Fanna\"]\n"
      ]
    },
    {
      "cell_type": "code",
      "execution_count": 13,
      "metadata": {
        "id": "rrMiC92-MSRw"
      },
      "outputs": [],
      "source": [
        "def generate_data(num_data_points):\n",
        "    with open(\"mystery_data.csv\", \"w\", newline='') as csvfile:\n",
        "        writer = csv.DictWriter(csvfile, fieldnames=[\"Case ID\", \"Suspect\", \"Variable\", \"Value\", \"Description\", \"Solution\"])\n",
        "        writer.writeheader()\n",
        "        for _ in range(num_data_points):\n",
        "            suspect = random.choice(suspects)\n",
        "            variable = random.choice(list(variables.keys()))\n",
        "            value = random.choice(variables[variable])\n",
        "            solution_probability = [0.25] * len(suspects)\n",
        "            solution_probability[suspects.index(suspect)] *= 3.2\n",
        "            solution = random.choices(suspects, weights=solution_probability)[0]\n",
        "            writer.writerow({\"Case ID\": f\"C{random.randint(1000, 9999)}\", \"Suspect\": suspect, \"Variable\": variable, \"Value\": value, \"Description\": f\"{variable} used as {value}\", \"Solution\": solution})\n"
      ]
    },
    {
      "cell_type": "code",
      "execution_count": 14,
      "metadata": {
        "id": "ZpkjvXp0MZch"
      },
      "outputs": [],
      "source": [
        "def build_bayesian_network():\n",
        "    model = BayesianNetwork([\n",
        "        ('Weapon', 'Location'),\n",
        "        ('Location', 'Opportunity'),\n",
        "        ('Opportunity', 'Motive')] + [(f'Motive', s) for s in suspects])\n",
        "\n",
        "    cpd_weapon = TabularCPD(variable='Weapon', variable_card=4, values=[[0.25], [0.25], [0.25], [0.25]], state_names={'Weapon': [\"Knife\", \"Gun\", \"Poison\", \"Fists\"]})\n",
        "    cpd_location = TabularCPD(variable='Location', variable_card=4, evidence=['Weapon'], evidence_card=[4], values=[[0.25]*4]*4, state_names={'Weapon': [\"Knife\", \"Gun\", \"Poison\", \"Fists\"], 'Location': [\"Living Room\", \"Kitchen\", \"Bedroom\", \"Garden\"]})\n",
        "    cpd_opportunity = TabularCPD(variable='Opportunity', variable_card=3, evidence=['Location'], evidence_card=[4], values=[[0.5, 0.2, 0.2, 0.1], [0.3, 0.4, 0.3, 0.5], [0.2, 0.4, 0.5, 0.4]], state_names={'Location': [\"Living Room\", \"Kitchen\", \"Bedroom\", \"Garden\"], 'Opportunity': [\"High\", \"Medium\", \"Low\"]})\n",
        "    cpd_motive = TabularCPD(variable='Motive', variable_card=4, evidence=['Opportunity'], evidence_card=[3], values=[[0.3, 0.1, 0.1], [0.3, 0.4, 0.2], [0.3, 0.4, 0.6], [0.1, 0.1, 0.1]], state_names={'Opportunity': [\"High\", \"Medium\", \"Low\"], 'Motive': [\"Jealousy\", \"Revenge\", \"Greed\", \"None\"]})\n",
        "\n",
        "    cpd_Farhan = TabularCPD(variable='Farhan', variable_card=2, evidence=['Motive'], evidence_card=[4],\n",
        "                      values=[\n",
        "                          [0.95, 0.1, 0.05, 0.9],\n",
        "                          [0.05, 0.9, 0.95, 0.1]\n",
        "                      ], state_names={'Motive': [\"Jealousy\", \"Revenge\", \"Greed\", \"None\"], 'Farhan': [0, 1]})\n",
        "\n",
        "    cpd_Minhaz = TabularCPD(variable='Minhaz', variable_card=2, evidence=['Motive'], evidence_card=[4],\n",
        "                      values=[\n",
        "                          [0.05, 0.9, 0.85, 0.1],\n",
        "                          [0.95, 0.1, 0.15, 0.9]\n",
        "                      ], state_names={'Motive': [\"Jealousy\", \"Revenge\", \"Greed\", \"None\"], 'Minhaz': [0, 1]})\n",
        "\n",
        "    cpd_Hasib = TabularCPD(variable='Hasib', variable_card=2, evidence=['Motive'], evidence_card=[4],\n",
        "                       values=[\n",
        "                           [0.9, 0.1, 0.05, 0.95],\n",
        "                           [0.1, 0.9, 0.95, 0.05]\n",
        "                       ], state_names={'Motive': [\"Jealousy\", \"Revenge\", \"Greed\", \"None\"], 'Hasib': [0, 1]})\n",
        "\n",
        "    cpd_Fanna = TabularCPD(variable='Fanna', variable_card=2, evidence=['Motive'], evidence_card=[4],\n",
        "                       values=[\n",
        "                           [0.95, 0.05, 0.1, 0.9],\n",
        "                           [0.05, 0.95, 0.9, 0.1]\n",
        "                       ], state_names={'Motive': [\"Jealousy\", \"Revenge\", \"Greed\", \"None\"], 'Fanna': [0, 1]})\n",
        "\n",
        "    model.add_cpds(cpd_weapon, cpd_location, cpd_opportunity, cpd_motive, cpd_Farhan, cpd_Minhaz, cpd_Hasib, cpd_Fanna)\n",
        "    assert model.check_model()\n",
        "    joblib.dump(model, 'bayesian_model.joblib')\n",
        "    return model"
      ]
    },
    {
      "cell_type": "code",
      "execution_count": 15,
      "metadata": {
        "id": "mxQWjKvsNZM-"
      },
      "outputs": [],
      "source": [
        "def solve_mystery(model, evidence, query_vars):\n",
        "    if model is None:\n",
        "        print(\"Model is not correctly defined.\")\n",
        "        return {}\n",
        "    inference = VariableElimination(model)\n",
        "    try:\n",
        "        results = inference.query(variables=query_vars, evidence=evidence, joint=False)\n",
        "\n",
        "        formatted_results = {}\n",
        "        for var in query_vars:\n",
        "            factor = results[var]\n",
        "            states = factor.state_names[var]\n",
        "            probabilities = factor.values\n",
        "            formatted_results[var] = {state: round(prob, 3) for state, prob in zip(states, probabilities)}\n",
        "        return formatted_results\n",
        "    except Exception as e:\n",
        "        print(f\"Error during inference: {e}\")\n",
        "        return {}"
      ]
    },
    {
      "cell_type": "code",
      "execution_count": 16,
      "metadata": {
        "colab": {
          "base_uri": "https://localhost:8080/"
        },
        "id": "iC4oDMWPNb0c",
        "outputId": "08384173-b5b7-49bd-d47a-43432878a6f1"
      },
      "outputs": [
        {
          "name": "stdout",
          "output_type": "stream",
          "text": [
            "Inference Results:\n",
            "Farhan:\n",
            "  0 -> 5.0%\n",
            "  1 -> 95.0%\n",
            "Minhaz:\n",
            "  0 -> 85.0%\n",
            "  1 -> 15.0%\n",
            "Hasib:\n",
            "  0 -> 5.0%\n",
            "  1 -> 95.0%\n",
            "Fanna:\n",
            "  0 -> 10.0%\n",
            "  1 -> 90.0%\n"
          ]
        }
      ],
      "source": [
        "if __name__ == \"__main__\":\n",
        "    bayesian_model = build_bayesian_network()\n",
        "    if bayesian_model:\n",
        "        evidence = {'Weapon': 'Gun', 'Location': 'Kitchen','Motive':'Greed','Opportunity':'Medium'}\n",
        "        query_vars = ['Farhan', 'Minhaz', 'Hasib', 'Fanna']\n",
        "        mystery_result = solve_mystery(bayesian_model, evidence, query_vars)\n",
        "        print(\"Inference Results:\")\n",
        "        for suspect, probs in mystery_result.items():\n",
        "            print(f\"{suspect}:\")\n",
        "            for state, prob in probs.items():\n",
        "                print(f\"  {state} -> {prob*100}%\")"
      ]
    }
  ],
  "metadata": {
    "colab": {
      "provenance": []
    },
    "kernelspec": {
      "display_name": "Python 3",
      "name": "python3"
    },
    "language_info": {
      "codemirror_mode": {
        "name": "ipython",
        "version": 3
      },
      "file_extension": ".py",
      "mimetype": "text/x-python",
      "name": "python",
      "nbconvert_exporter": "python",
      "pygments_lexer": "ipython3",
      "version": "3.11.1"
    }
  },
  "nbformat": 4,
  "nbformat_minor": 0
}
